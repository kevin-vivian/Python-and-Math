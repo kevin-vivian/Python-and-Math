{
 "cells": [
  {
   "cell_type": "markdown",
   "metadata": {},
   "source": [
    "# Report 1: The Collatz Conjecture\n",
    "\n",
    "The Collatz conjecture is a famous unsolved problem in mathematics. The problem involves taking a positive integer $n$ and constructing a sequence as follows: If $n$ is even, take the next term in the sequence to be $n/2$. If $n$ is odd, then the next term is $3n + 1$. The conjecture is that this sequence will always terminate in a 1 if started from a positive number. For example, starting on $n = 6$ yields the sequence 6, 3, 10, 5, 16, 8, 4, 2, 1. Note that once the sequence hits the number 1, it will proceed to cycle through the 4, 2, 1, 4, 2, 1... Looping behavior like this is important in our explorations here and we develop how to deal with it in code bellow.\n",
    "\n",
    "\n",
    "\n",
    "This report explores 4 topics:\n",
    "\n",
    "1. Generating the sequence for both positive and negative numbers\n",
    "\n",
    "\n",
    "2. Plotting termination time\n",
    "\n",
    "\n",
    "3. Exploring terminating cycles\n",
    "\n",
    "\n",
    "4. Generalizations of the the algorithm, and plotting corresponding results"
   ]
  },
  {
   "cell_type": "markdown",
   "metadata": {},
   "source": [
    "## Generating functions"
   ]
  },
  {
   "cell_type": "markdown",
   "metadata": {},
   "source": [
    "The function below generates the Collatz sequence for any integer, and then formatted output is printed. "
   ]
  },
  {
   "cell_type": "code",
   "execution_count": 2,
   "metadata": {},
   "outputs": [],
   "source": [
    "def collatz(n, halt=1000):\n",
    "    '''\n",
    "    This function take any integer n and prints a list of the Collatz\n",
    "    sequence starting at n. This makes use of a running list and\n",
    "    implements a hard cutoff 'halt' limit. Since the sequence repeats\n",
    "    once it hits 1, the while loop implemented checks both that we\n",
    "    haven't reached 1, and that we're still below the halt limit. If\n",
    "    either fails, then the code stops, whichever happens first.\n",
    "    '''\n",
    "    \n",
    "    # Initialize runnig list, and step counter\n",
    "    L = [n]\n",
    "    last_term = n\n",
    "    steps = 0\n",
    "    \n",
    "    # As menitioned, this will fail whenever any or both of the two\n",
    "    # conditions below fail\n",
    "    while (last_term != 1) and (steps < halt):\n",
    "        \n",
    "        # Play the game:\n",
    "        if last_term % 2 == 0:\n",
    "            last_term = last_term//2\n",
    "        else:\n",
    "            last_term = last_term*3 + 1\n",
    "        \n",
    "        # update the last term variable, and increment the step counter\n",
    "        L.append(last_term)\n",
    "        steps += 1\n",
    "    \n",
    "    # Loop through list to make a nice printable string of the sequence \n",
    "    list_string = ''\n",
    "    for x in L:\n",
    "        list_string += str(x) + \", \"\n",
    "    \n",
    "    # Chopping off the string at the last two characters removes the\n",
    "    # unfortunate extra \", \" from the above\n",
    "    if (steps == halt) and (L[-1] != 1):\n",
    "        print(\"HALTED Collatz with n = {}: {}\".format(n, list_string[:-2]))\n",
    "    else:\n",
    "        print(\"Collatz with n = {}: {}\".format(n, list_string[:-2]))"
   ]
  },
  {
   "cell_type": "markdown",
   "metadata": {},
   "source": [
    "The function works well both when 1 is hit, and when forced to abort after a halt limit. For example, see the two cases:"
   ]
  },
  {
   "cell_type": "code",
   "execution_count": 3,
   "metadata": {},
   "outputs": [
    {
     "name": "stdout",
     "output_type": "stream",
     "text": [
      "Collatz with n = 7: 7, 22, 11, 34, 17, 52, 26, 13, 40, 20, 10, 5, 16, 8, 4, 2, 1\n"
     ]
    }
   ],
   "source": [
    "collatz(7)"
   ]
  },
  {
   "cell_type": "code",
   "execution_count": 7,
   "metadata": {},
   "outputs": [
    {
     "name": "stdout",
     "output_type": "stream",
     "text": [
      "HALTED Collatz with n = -5: -5, -14, -7, -20, -10, -5, -14, -7, -20, -10, -5, -14, -7, -20, -10, -5\n"
     ]
    }
   ],
   "source": [
    "collatz(-5, halt=15)"
   ]
  },
  {
   "cell_type": "markdown",
   "metadata": {},
   "source": [
    "## Termination time\n",
    "\n",
    "The conjecture is that the sequence terminates for all positive inputs. If this is the case, *how fast* do these sequences terminate. We construct the floowing function to test this:"
   ]
  },
  {
   "cell_type": "code",
   "execution_count": 15,
   "metadata": {},
   "outputs": [],
   "source": [
    "def halting_steps(n):\n",
    "    '''\n",
    "    This function takes a positive integer n and retruns the number of\n",
    "    steps the Collatz sequence takes to terminate.\n",
    "    '''\n",
    "    \n",
    "    if n <= 0:\n",
    "        print(\"Please enter a postive number!\")\n",
    "        return\n",
    "    \n",
    "    L, last_term = [n], n\n",
    "    \n",
    "    while last_term != 1:\n",
    "        if last_term % 2 == 0:\n",
    "            last_term = last_term//2\n",
    "        else:\n",
    "            last_term = 3*last_term + 1\n",
    "            \n",
    "        L.append(last_term)\n",
    "    \n",
    "    return len(L)-1"
   ]
  },
  {
   "cell_type": "markdown",
   "metadata": {},
   "source": [
    "The numbers $n=2, ..., 20$ terminate in the following number of steps: 1, 7, 2, 5, 8, 16, 3, 19, 6, 14, 9, 9, 17, 17, 4, 12, 20, 20, 7. There are a few patterns to call to attention. First, these numbers often come in pairs. For example the sequence starting from both $n=12$ *and* $n=13$ terminates in 9 steps. This pattern continued regularly later into the sequence as well, and the lengths of the consecutive terms got longer too. The second observance is that, even for large $n$, the termination time remains very small. The following code shows that there are only 4 integers less than 1000000 who's termination time is more than 500:"
   ]
  },
  {
   "cell_type": "code",
   "execution_count": null,
   "metadata": {},
   "outputs": [],
   "source": [
    "for i in range(1,1000000):\n",
    "    if halting_steps(i) > 500:\n",
    "        print(halting_steps(i))"
   ]
  },
  {
   "cell_type": "markdown",
   "metadata": {},
   "source": [
    "508, 503, 524, 506"
   ]
  },
  {
   "cell_type": "markdown",
   "metadata": {},
   "source": [
    "We would like to see the global behavior of this function. Is, for example, the function bounded in some way? What shape does the data take on? To explore this, we import numpy and matplotlib to graph the `halting_steps` function."
   ]
  },
  {
   "cell_type": "code",
   "execution_count": 16,
   "metadata": {},
   "outputs": [],
   "source": [
    "import matplotlib\n",
    "import numpy as np\n",
    "import matplotlib.pyplot as plt"
   ]
  },
  {
   "cell_type": "code",
   "execution_count": 18,
   "metadata": {},
   "outputs": [],
   "source": [
    "def plot_halting(end, start=1):\n",
    "    '''\n",
    "    This function plots the behavior of halting_steps(n) from n=start to n=end\n",
    "    '''\n",
    "    \n",
    "    x_values = np.array(list(range(start,end+1)))\n",
    "    y_list = []\n",
    "    \n",
    "    for x in range(start, end+1):\n",
    "        y_list.append(halting_steps(x))\n",
    "    \n",
    "    y_values = np.array(y_list)\n",
    "    \n",
    "    plt.plot(x_values, y_values, 'g,')\n",
    "    plt.title('Halting Steps')\n",
    "    plt.show()"
   ]
  },
  {
   "cell_type": "code",
   "execution_count": 22,
   "metadata": {
    "scrolled": true
   },
   "outputs": [
    {
     "data": {
      "image/png": "[encoded data removed]",
      "text/plain": [
       "<Figure size 432x288 with 1 Axes>"
      ]
     },
     "metadata": {},
     "output_type": "display_data"
    }
   ],
   "source": [
    "plot_halting(1000)"
   ]
  },
  {
   "cell_type": "code",
   "execution_count": 23,
   "metadata": {},
   "outputs": [
    {
     "data": {
      "image/png": "[encoded data removed]",
      "text/plain": [
       "<Figure size 432x288 with 1 Axes>"
      ]
     },
     "metadata": {},
     "output_type": "display_data"
    }
   ],
   "source": [
    "plot_halting(1000000)"
   ]
  },
  {
   "cell_type": "markdown",
   "metadata": {},
   "source": [
    "This is a crazy picture! There are visual sugestions of logarithmic growth, and you can clarly see that the function rarely exceeds 500 in the 1 to 1000000 case, as mentioned."
   ]
  },
  {
   "cell_type": "markdown",
   "metadata": {},
   "source": [
    "## Negative inputs and terminating cycles\n",
    "\n",
    "There was something interesting in the sequences starting from negative numbers: while they never reached 1, they entered into finite loops of terms. In a sense, we could consider these as terminations themseleves. A conjecture then, is:\n",
    "\n",
    "**Conjecture:** Every negative sequence terminates in a loop.\n",
    "\n",
    "Moreover, if this is true, we can ask:\n",
    "\n",
    "**Question:** What are the possible cycle *lengths*?\n",
    "\n",
    "To explore this, we build a function to generate the Collatz sequence starting from a negative number. Specifically, we need code to deal with identifying cylces, and terminating where appropriate."
   ]
  },
  {
   "cell_type": "code",
   "execution_count": 25,
   "metadata": {},
   "outputs": [],
   "source": [
    "def negative_cycle(n, verbose=True):\n",
    "    '''\n",
    "    This function constructs the negative Collatz sequence in two steps:\n",
    "    generating the sequence untill a repeat is hit, then generating the\n",
    "    cycle that occurs from that repeat. This function also makes use of\n",
    "    a 'verbose' parameter, which if silent alows us to plot the lengths\n",
    "    of the cylces arrived at in code following.\n",
    "    '''\n",
    "    \n",
    "    if n > 0:\n",
    "        print(\"Error: This function takes a negative number n.\")\n",
    "        return\n",
    "    \n",
    "    L, last_term = [n], n\n",
    "    steps = 0\n",
    "    \n",
    "    # Part 1: Build the sequence till we hit a repeat then pass the\n",
    "    # repeat on to part 2\n",
    "    while True:\n",
    "        # Play the game\n",
    "        if last_term % 2 == 0:\n",
    "            next_term = last_term // 2\n",
    "        else:\n",
    "            next_term = 3*last_term + 1\n",
    "        \n",
    "        # If a cycle is started, kill the loop and initialize the cycle\n",
    "        if next_term in L:\n",
    "            cycle_start = next_term\n",
    "            break\n",
    "        else:\n",
    "            L.append(next_term)\n",
    "            last_term = next_term\n",
    "            steps += 1\n",
    "\n",
    "    # Part 2: Build the list of the cycle\n",
    "    cycle_list = [cycle_start]\n",
    "    cycle_current = cycle_start\n",
    "    \n",
    "    while True:\n",
    "        if cycle_current % 2 == 0:\n",
    "            cycle_current = cycle_current // 2\n",
    "        else:\n",
    "            cycle_current = 3*cycle_current + 1\n",
    "        \n",
    "        # If we return to the start of the cycle, break\n",
    "        if cycle_current == cycle_start:\n",
    "            break\n",
    "        else:\n",
    "            cycle_list.append(cycle_current)\n",
    "    \n",
    "    # Part 3: Print or return the results\n",
    "    if verbose:\n",
    "        print(\"Negative Collatz on n = {}. Cycle length {} at index {}:\\n{:s}\".format(n, len(cycle_list), steps, str(cycle_list)))\n",
    "    else:\n",
    "        return len(cycle_list)"
   ]
  },
  {
   "cell_type": "code",
   "execution_count": 29,
   "metadata": {},
   "outputs": [
    {
     "name": "stdout",
     "output_type": "stream",
     "text": [
      "Negative Collatz on n = -17. Cycle length 18 at index 17:\n",
      "[-17, -50, -25, -74, -37, -110, -55, -164, -82, -41, -122, -61, -182, -91, -272, -136, -68, -34]\n"
     ]
    }
   ],
   "source": [
    "negative_cycle(-17)"
   ]
  },
  {
   "cell_type": "markdown",
   "metadata": {},
   "source": [
    "As before, we can plot this function. Code is ommitted to save space, and it is exactly the same as the plotting function above. Something terrifying happens when we look at the sizes of the loops we end in. Here are the first million:"
   ]
  },
  {
   "cell_type": "code",
   "execution_count": 34,
   "metadata": {},
   "outputs": [
    {
     "data": {
      "image/png": "[encoded data removed]",
      "text/plain": [
       "<Figure size 432x288 with 1 Axes>"
      ]
     },
     "metadata": {},
     "output_type": "display_data"
    }
   ],
   "source": [
    "plot_cycle_length(-1000000)"
   ]
  },
  {
   "cell_type": "markdown",
   "metadata": {},
   "source": [
    "It appears that there may only be terminating cycles of lengths 2, 5, and 18! Cracking it open further, there seems only one unique cycle of each length, up to cyclic permutation.\n",
    "\n",
    "1. Length 2 first occurs at $n=-1$: [-2, -1]\n",
    "\n",
    "\n",
    "2. Lenth 5 first occurs at $n=-5$: [-5, -14, -7, -20, -10]\n",
    "\n",
    "\n",
    "3. Lenth 18 first occurs at $n=-17$: [-17, -50, -25, -74, -37, -110, -55, -164, -82, -41, -122, -61, -182, -91, -272, -136, -68, -34]"
   ]
  },
  {
   "cell_type": "markdown",
   "metadata": {},
   "source": [
    "## Generalizations"
   ]
  },
  {
   "cell_type": "markdown",
   "metadata": {},
   "source": [
    "The Collatz problem is sometimes refered to as the $3n+1$ conjecture. For this reason, we make the following generalization: For a fixed positive integer $M \\geq 1$, if $n$ is odd, make the next term in the sequence $Mn + 1$, otherwise $n/2$ as before. We implement this in code below:"
   ]
  },
  {
   "cell_type": "code",
   "execution_count": 35,
   "metadata": {},
   "outputs": [],
   "source": [
    "def general_collatz(n, multiple=3, halt=1000, verbose=True):\n",
    "    '''\n",
    "    This code generates the general Collatz sequence for a given multiple.\n",
    "    If verbose is flase, we return the termination time. As convention for \n",
    "    use in later code, we return the integer -1 if the halt time was hit.\n",
    "    '''\n",
    "    \n",
    "    L, last_term = [n], n\n",
    "    steps = 0\n",
    "    \n",
    "    while (last_term != 1) and (steps < halt):\n",
    "        if last_term % 2 == 0:\n",
    "            last_term = last_term//2\n",
    "        else:\n",
    "            last_term = multiple*last_term + 1\n",
    "\n",
    "        L.append(last_term)\n",
    "        steps += 1\n",
    "    \n",
    "    if verbose:\n",
    "        if (steps == halt) and (n != 1):\n",
    "            print(\"HALTED {}-Collatz on n={}: {:s}\".format(multiple, n, str(L)))\n",
    "        else:\n",
    "            print(\"{}-Collatz on n={}: {:s}\".format(multiple, n, str(L)))\n",
    "    \n",
    "    else:\n",
    "        if (steps == halt) and (n != 1):\n",
    "            return -1\n",
    "        else:\n",
    "            return steps"
   ]
  },
  {
   "cell_type": "code",
   "execution_count": 36,
   "metadata": {},
   "outputs": [
    {
     "name": "stdout",
     "output_type": "stream",
     "text": [
      "5-Collatz on n=3: [3, 16, 8, 4, 2, 1]\n"
     ]
    }
   ],
   "source": [
    "general_collatz(3, multiple=5)"
   ]
  },
  {
   "cell_type": "markdown",
   "metadata": {},
   "source": [
    "The $Mn + 1$ Collatz sequences seem to terminate *far* less often. Here are some images. Again plotting code is ommitted."
   ]
  },
  {
   "cell_type": "code",
   "execution_count": 41,
   "metadata": {},
   "outputs": [
    {
     "data": {
      "image/png": "[encoded data removed]",
      "text/plain": [
       "<Figure size 432x288 with 1 Axes>"
      ]
     },
     "metadata": {},
     "output_type": "display_data"
    }
   ],
   "source": [
    "plot_general_halting(multiple=5, end=1000)"
   ]
  },
  {
   "cell_type": "code",
   "execution_count": 40,
   "metadata": {},
   "outputs": [
    {
     "data": {
      "image/png": "[encoded data removed]",
      "text/plain": [
       "<Figure size 432x288 with 1 Axes>"
      ]
     },
     "metadata": {},
     "output_type": "display_data"
    }
   ],
   "source": [
    "plot_general_halting(multiple=6, end=1000)"
   ]
  },
  {
   "cell_type": "markdown",
   "metadata": {},
   "source": [
    "The logarithmic shape is still present though! In fact, we make the following claim about the general $Mn + 1$ collatz.\n",
    "\n",
    "**Claim:** If $M$ is even, then the only numbers that terminate are the powers of 2, $2^k$.\n",
    "\n",
    "\n",
    "*Proof:* If $n$ is a power of two, then it clearly terminates, as it just gets cut in half at each itteration. If n is odd, then the number $Mn + 1$ is odd and the sequence will proceed with the unbounded sequence $Mn+1, M(Mn+1) + 1, M(M(Mn+1)+1) + 1, \\dots$. If $n$ is even but not a power of 2 then write $n = 2K$ for some $K$. As $n$ is not a power of 2, eventually we will have that $K/{2^t}$ is odd for some step $t$. The sequence the continues unbounded. This completes the proof."
   ]
  },
  {
   "cell_type": "markdown",
   "metadata": {},
   "source": [
    "## Conclusion"
   ]
  },
  {
   "cell_type": "markdown",
   "metadata": {},
   "source": [
    "There is still a lot to examine. For example, I didn't look at the sugested `dropping_steps(n)` function, or other more general algorithms. But the evidence found thus far is compelling, and I'd like to explore it furhter!"
   ]
  },
  {
   "cell_type": "code",
   "execution_count": null,
   "metadata": {},
   "outputs": [],
   "source": []
  }
 ],
 "metadata": {
  "kernelspec": {
   "display_name": "Python 3",
   "language": "python",
   "name": "python3"
  },
  "language_info": {
   "codemirror_mode": {
    "name": "ipython",
    "version": 3
   },
   "file_extension": ".py",
   "mimetype": "text/x-python",
   "name": "python",
   "nbconvert_exporter": "python",
   "pygments_lexer": "ipython3",
   "version": "3.6.8"
  }
 },
 "nbformat": 4,
 "nbformat_minor": 2
}
